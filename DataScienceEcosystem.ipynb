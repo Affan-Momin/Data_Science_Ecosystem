{
 "cells": [
  {
   "cell_type": "markdown",
   "id": "9d4452d5-db5b-4173-bd13-38335dc02d16",
   "metadata": {
    "tags": []
   },
   "source": [
    "# Data Science Tools and Ecosystem\n"
   ]
  },
  {
   "cell_type": "markdown",
   "id": "626dd67a-8c49-48bc-bb65-f71ced87cb2d",
   "metadata": {
    "tags": []
   },
   "source": [
    "In this notebook, Data Science Tools and Ecosystem are summarized."
   ]
  },
  {
   "cell_type": "markdown",
   "id": "469a015a-0549-4026-b5c7-e082b1ccb933",
   "metadata": {
    "tags": []
   },
   "source": [
    "__Objectives:__\n",
    "* Popular Languages for Data Science\n",
    "* Commonly used Libraries by Data Science\n",
    "* Tools for Data Science\n",
    "* Introduction to R and RStudio\n",
    "* Introduction to GitHub\n",
    "* Introduction to Jupyter Notebook"
   ]
  },
  {
   "cell_type": "markdown",
   "id": "ca154440-cc83-4329-a21c-a0b8c0b14f66",
   "metadata": {},
   "source": [
    "Some of the popular languages that Data Scientists use are:\n",
    "1. Python\n",
    "2. R\n",
    "3. SQL\n",
    "4. Scala\n",
    "5. Java\n",
    "6. C++"
   ]
  },
  {
   "cell_type": "markdown",
   "id": "1a04a439-52cd-42c4-89ca-272ecb21ce02",
   "metadata": {},
   "source": [
    "Some of the commonly used libraries used by Data Scientists include:\n",
    "1. Numpy\n",
    "2. Scipy\n",
    "3. Pandas \n",
    "4. Matplotlib\n",
    "5. SciKit-Learn\n",
    "6. Keras"
   ]
  },
  {
   "cell_type": "markdown",
   "id": "4e8500f8-1c26-4c48-bd57-44a1f5219420",
   "metadata": {},
   "source": [
    "|Data Science Tools|\n",
    "|------------------|\n",
    "|RStudio|\n",
    "|TensorFlow|\n",
    "|Apache Spark|\n",
    "|Apache Hadoop|"
   ]
  },
  {
   "cell_type": "markdown",
   "id": "a2af0e9c-55a0-4832-a1f3-babbd5b47cbf",
   "metadata": {
    "tags": []
   },
   "source": [
    "### Below are a few examples of evaluating arithmetic expressions in Python"
   ]
  },
  {
   "cell_type": "code",
   "execution_count": 5,
   "id": "29c7950b-61a2-44f2-aee2-57db88b9f171",
   "metadata": {
    "tags": []
   },
   "outputs": [
    {
     "data": {
      "text/plain": [
       "17"
      ]
     },
     "execution_count": 5,
     "metadata": {},
     "output_type": "execute_result"
    }
   ],
   "source": [
    "# This a simple arithmetic expression to mutiply then add integers\n",
    "(3*4)+5"
   ]
  },
  {
   "cell_type": "code",
   "execution_count": 9,
   "id": "df796357-f19c-4045-999f-fd3f2d07c938",
   "metadata": {
    "tags": []
   },
   "outputs": [
    {
     "name": "stdout",
     "output_type": "stream",
     "text": [
      "3.3333333333333335\n"
     ]
    }
   ],
   "source": [
    "# This will convert 200 minutes to hours by diving by 60\n",
    "minutes = 200\n",
    "in_hours = 200/60\n",
    "print(in_hours)"
   ]
  },
  {
   "cell_type": "markdown",
   "id": "91d7d03e-4eb0-44ed-a247-c151260516ef",
   "metadata": {},
   "source": [
    "## Author\n",
    "Affan Momin"
   ]
  },
  {
   "cell_type": "code",
   "execution_count": null,
   "id": "6f527ccc-5fa9-48d3-be7b-3cfb45f51adf",
   "metadata": {},
   "outputs": [],
   "source": []
  }
 ],
 "metadata": {
  "kernelspec": {
   "display_name": "Python",
   "language": "python",
   "name": "conda-env-python-py"
  },
  "language_info": {
   "codemirror_mode": {
    "name": "ipython",
    "version": 3
   },
   "file_extension": ".py",
   "mimetype": "text/x-python",
   "name": "python",
   "nbconvert_exporter": "python",
   "pygments_lexer": "ipython3",
   "version": "3.7.12"
  }
 },
 "nbformat": 4,
 "nbformat_minor": 5
}
